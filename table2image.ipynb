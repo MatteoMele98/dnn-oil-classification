{
 "cells": [
  {
   "cell_type": "markdown",
   "metadata": {},
   "source": [
    "# Table2image\n",
    "\n",
    "- Input = csv file contaning N saples each with d features\n",
    "- Output = N images that mapping the corresponding samples\n",
    "\n",
    "### Steps\n",
    "    0. csv file in the form of Nxd matrix\n",
    "    1. Perform normalization on that matrix\n",
    "        a. min-max norm\n",
    "        b. log norm\n",
    "    2. Traspose the matrix (considere features-wise row). Obtain dxN matrix\n",
    "    3. Perform Dimensionality reduction on the normalized matrix. Obatain the location of every feature in a cartesian plan\n",
    "        a. TSNE\n",
    "        b. PCA\n",
    "    4. Find the minimum rectangle encopassing all the points and rotate\n",
    "    5. For each saple, map the values from normalized matrix into the locations found earlier. Obtain an image describing the saple"
   ]
  },
  {
   "cell_type": "markdown",
   "metadata": {},
   "source": [
    "---\n",
    "### Step 0: .csv file in the form of Nxd matrix\n",
    "\n",
    "The .csv is in the follwing form: <id, Label, [array of values]>"
   ]
  },
  {
   "cell_type": "code",
   "execution_count": 115,
   "metadata": {},
   "outputs": [],
   "source": [
    "import csv\n",
    "import pandas as pd \n",
    "import numpy as np\n"
   ]
  },
  {
   "cell_type": "code",
   "execution_count": 116,
   "metadata": {},
   "outputs": [
    {
     "data": {
      "text/plain": [
       "array([[1.000e+00, 1.000e+00, 0.000e+00, ..., 0.000e+00, 1.200e-02,\n",
       "        6.700e-02],\n",
       "       [2.000e+00, 1.000e+00, 0.000e+00, ..., 0.000e+00, 6.000e-03,\n",
       "        1.900e-02],\n",
       "       [3.000e+00, 1.000e+00, 0.000e+00, ..., 0.000e+00, 6.000e-03,\n",
       "        5.300e-02],\n",
       "       ...,\n",
       "       [1.215e+03, 6.000e+00, 0.000e+00, ..., 7.000e-03, 1.200e-02,\n",
       "        4.900e-02],\n",
       "       [1.216e+03, 6.000e+00, 0.000e+00, ..., 1.900e-02, 1.500e-02,\n",
       "        5.500e-02],\n",
       "       [1.217e+03, 6.000e+00, 0.000e+00, ..., 2.200e-02, 0.000e+00,\n",
       "        0.000e+00]])"
      ]
     },
     "execution_count": 116,
     "metadata": {},
     "output_type": "execute_result"
    }
   ],
   "source": [
    "dataset_df = np.loadtxt(\"DATASET_origine_BUONO.csv\", delimiter=\",\", skiprows=1)\n",
    "dataset_df"
   ]
  },
  {
   "cell_type": "code",
   "execution_count": 129,
   "metadata": {},
   "outputs": [
    {
     "name": "stdout",
     "output_type": "stream",
     "text": [
      "[[0.    0.    0.006 ... 0.    0.012 0.067]\n",
      " [0.    0.    0.1   ... 0.    0.006 0.019]\n",
      " [0.    0.02  0.017 ... 0.    0.006 0.053]\n",
      " ...\n",
      " [0.    0.067 0.679 ... 0.007 0.012 0.049]\n",
      " [0.    0.058 0.328 ... 0.019 0.015 0.055]\n",
      " [0.    0.075 0.124 ... 0.022 0.    0.   ]]\n",
      "\n",
      " X_traning shape:\n"
     ]
    },
    {
     "data": {
      "text/plain": [
       "(1217, 72)"
      ]
     },
     "execution_count": 129,
     "metadata": {},
     "output_type": "execute_result"
    }
   ],
   "source": [
    "#This values are used to slice the dataframe in a feature-wise array and label-wise array\n",
    "colStart_feature = 2\n",
    "colEnd_feature = 75\n",
    "colStart_label = 1\n",
    "colEnd_label = 2\n"
   ]
  },
  {
   "cell_type": "code",
   "execution_count": 131,
   "metadata": {},
   "outputs": [
    {
     "name": "stdout",
     "output_type": "stream",
     "text": [
      "[[0.    0.    0.006 ... 0.    0.012 0.067]\n",
      " [0.    0.    0.1   ... 0.    0.006 0.019]\n",
      " [0.    0.02  0.017 ... 0.    0.006 0.053]\n",
      " ...\n",
      " [0.    0.067 0.679 ... 0.007 0.012 0.049]\n",
      " [0.    0.058 0.328 ... 0.019 0.015 0.055]\n",
      " [0.    0.075 0.124 ... 0.022 0.    0.   ]]\n",
      "\n",
      " X_traning shape:\n"
     ]
    },
    {
     "data": {
      "text/plain": [
       "(1217, 72)"
      ]
     },
     "execution_count": 131,
     "metadata": {},
     "output_type": "execute_result"
    }
   ],
   "source": [
    "X_traning = dataset_df[:, colStart_feature:colEnd_feature]\n",
    "\n",
    "print(X_traning)\n",
    "print(\"\\n X_traning shape:\")\n",
    "X_traning.shape"
   ]
  },
  {
   "cell_type": "code",
   "execution_count": 130,
   "metadata": {},
   "outputs": [
    {
     "name": "stdout",
     "output_type": "stream",
     "text": [
      "[[1.]\n",
      " [1.]\n",
      " [1.]\n",
      " ...\n",
      " [6.]\n",
      " [6.]\n",
      " [6.]]\n",
      "\n",
      " Y_traning shape:\n"
     ]
    },
    {
     "data": {
      "text/plain": [
       "(1217, 1)"
      ]
     },
     "execution_count": 130,
     "metadata": {},
     "output_type": "execute_result"
    }
   ],
   "source": [
    "Y_traning = dataset_df[:, colStart_label:colEnd_label]\n",
    "\n",
    "print(Y_traning)\n",
    "print(\"\\n Y_traning shape:\")\n",
    "Y_traning.shape"
   ]
  },
  {
   "cell_type": "markdown",
   "metadata": {},
   "source": [
    "---\n",
    "### Step 1: Perform normalization on the matrix; obtain Nxd matrix with all values between 0 and 1"
   ]
  },
  {
   "cell_type": "code",
   "execution_count": 139,
   "metadata": {},
   "outputs": [],
   "source": [
    "from sklearn import preprocessing\n",
    "from sklearn.preprocessing import MinMaxScaler\n",
    "\n"
   ]
  },
  {
   "cell_type": "code",
   "execution_count": 151,
   "metadata": {},
   "outputs": [],
   "source": [
    "norm_method = \"MIN_MAX_NORM\""
   ]
  },
  {
   "cell_type": "code",
   "execution_count": 159,
   "metadata": {},
   "outputs": [
    {
     "name": "stdout",
     "output_type": "stream",
     "text": [
      "Min-Max normalization used\n",
      "[0. 0. 0. 0. 0. 0. 0. 0. 0. 0. 0. 0. 0. 0. 0. 0. 0. 0. 0. 0. 0. 0. 0. 0.\n",
      " 0. 0. 0. 0. 0. 0. 0. 0. 0. 0. 0. 0. 0. 0. 0. 0. 0. 0. 0. 0. 0. 0. 0. 0.\n",
      " 0. 0. 0. 0. 0. 0. 0. 0. 0. 0. 0. 0. 0. 0. 0. 0. 0. 0. 0. 0. 0. 0. 0. 0.]\n",
      "[1. 1. 1. 1. 1. 1. 1. 1. 1. 1. 1. 1. 1. 1. 1. 1. 1. 1. 1. 1. 1. 1. 1. 1.\n",
      " 1. 1. 1. 1. 1. 1. 1. 1. 1. 1. 1. 1. 1. 1. 1. 1. 1. 1. 1. 1. 1. 1. 1. 1.\n",
      " 1. 1. 1. 1. 1. 1. 1. 1. 1. 1. 1. 1. 1. 1. 1. 1. 1. 1. 1. 1. 1. 1. 1. 1.]\n",
      "[[0.         0.         0.00185099 ... 0.         0.03896104 0.03863899]\n",
      " [0.         0.         0.04534938 ... 0.         0.01948052 0.01095732]\n",
      " [0.         0.01512859 0.00694123 ... 0.         0.01948052 0.03056517]\n",
      " ...\n",
      " [0.         0.05068079 0.31328089 ... 0.01639344 0.03896104 0.02825836]\n",
      " [0.         0.04387292 0.15085609 ... 0.04449649 0.0487013  0.03171857]\n",
      " [0.         0.05673222 0.05645534 ... 0.05152225 0.         0.        ]]\n",
      "X_traning_norm shape:\n",
      "(1217, 72)\n"
     ]
    }
   ],
   "source": [
    "if(norm_method == \"MIN_MAX_NORM\"):\n",
    "    print(\"Min-Max normalization used\")\n",
    "    scaler = MinMaxScaler()\n",
    "    \n",
    "    #NOT USE TRANSPOSE HERE <=============================\n",
    "    #scaler.fit(X_traning_transpose)\n",
    "    #X_traning_norm = scaler.transform(X_traning_transpose)\n",
    "    \n",
    "    scaler.fit(X_traning)\n",
    "    X_traning_norm = scaler.transform(X_traning)\n",
    "\"\"\"\n",
    "elif (norm_method == \"LOG_NORM\"):\n",
    "    print(\"Logarithm normalization used\")\n",
    "    X_traning_norm = np.log(X_traning)\n",
    "\"\"\"\n",
    "\n",
    "#check if all the values are between 0 and 1\n",
    "print(X_traning_norm.min(axis=0))\n",
    "print(X_traning_norm.max(axis=0))\n",
    "\n",
    "print(X_traning_norm)\n",
    "\n",
    "print(\"X_traning_norm shape:\")\n",
    "print(X_traning_norm.shape)"
   ]
  },
  {
   "cell_type": "code",
   "execution_count": 162,
   "metadata": {},
   "outputs": [
    {
     "data": {
      "image/png": "[encoded data removed]",
      "text/plain": [
       "<Figure size 432x288 with 2 Axes>"
      ]
     },
     "metadata": {
      "needs_background": "light"
     },
     "output_type": "display_data"
    }
   ],
   "source": [
    "import matplotlib.pyplot as plt\n",
    "\n",
    "fig, axes = plt.subplots(1,2)\n",
    "axes[0].scatter(X_traning[:,0], X_traning[:,1])\n",
    "axes[0].set_title(\"Original data\")\n",
    "axes[1].scatter(X_traning_norm[:,0], X_traning_norm[:,1])\n",
    "axes[1].set_title(\"MinMax scaled data\")\n",
    "\n",
    "plt.show()"
   ]
  },
  {
   "cell_type": "markdown",
   "metadata": {},
   "source": [
    "---\n",
    "### Step 2: Transpose the above matrix; obtain a feature-wise dxN matrix"
   ]
  },
  {
   "cell_type": "code",
   "execution_count": 160,
   "metadata": {},
   "outputs": [
    {
     "name": "stdout",
     "output_type": "stream",
     "text": [
      "[[0.         0.         0.         ... 0.         0.         0.        ]\n",
      " [0.         0.         0.01512859 ... 0.05068079 0.04387292 0.05673222]\n",
      " [0.00185099 0.04534938 0.00694123 ... 0.31328089 0.15085609 0.05645534]\n",
      " ...\n",
      " [0.         0.         0.         ... 0.01639344 0.04449649 0.05152225]\n",
      " [0.03896104 0.01948052 0.01948052 ... 0.03896104 0.0487013  0.        ]\n",
      " [0.03863899 0.01095732 0.03056517 ... 0.02825836 0.03171857 0.        ]]\n",
      "\n",
      " X_traning_transpose shape:\n"
     ]
    },
    {
     "data": {
      "text/plain": [
       "(72, 1217)"
      ]
     },
     "execution_count": 160,
     "metadata": {},
     "output_type": "execute_result"
    }
   ],
   "source": [
    "X_traning_norm_transpose = X_traning_norm.T\n",
    "\n",
    "print(X_traning_norm_transpose)\n",
    "print(\"\\n X_traning_norm_transpose shape:\")\n",
    "X_traning_norm_transpose.shape"
   ]
  },
  {
   "cell_type": "markdown",
   "metadata": {},
   "source": [
    "---\n",
    "### Step 3: Perform a dimensionality reduction; obtain 2d coordinates of the features"
   ]
  },
  {
   "cell_type": "code",
   "execution_count": 165,
   "metadata": {},
   "outputs": [],
   "source": [
    "from sklearn.manifold import TSNE\n",
    "import seaborn as sn\n"
   ]
  },
  {
   "cell_type": "code",
   "execution_count": 166,
   "metadata": {},
   "outputs": [],
   "source": [
    "reduction_method = \"TSNE\""
   ]
  },
  {
   "cell_type": "code",
   "execution_count": 171,
   "metadata": {},
   "outputs": [
    {
     "name": "stdout",
     "output_type": "stream",
     "text": [
      "TSNE used\n",
      "    tsne-2d-one  tsne-2d-two\n",
      "0    -41.268406     5.183746\n",
      "1     24.991367   -20.767988\n",
      "2     71.555634    21.052402\n",
      "3      3.421207     2.822822\n",
      "4     28.196262    16.305965\n",
      "..          ...          ...\n",
      "67   -11.508637     8.655437\n",
      "68    46.563622     8.853287\n",
      "69   -19.505644     6.217816\n",
      "70    -6.233335    18.824059\n",
      "71     1.206492    18.829227\n",
      "\n",
      "[72 rows x 2 columns]\n"
     ]
    }
   ],
   "source": [
    "if(reduction_method == \"TSNE\"):\n",
    "    print(\"TSNE used\")\n",
    "    TSNE_model = TSNE(n_components=2, random_state=0)\n",
    "    active_location_pixel =  TSNE_model.fit_transform(X_traning_norm_transpose)\n",
    "    active_location_pixel_df = pd.DataFrame(data=active_location_pixel, columns=(\"tsne-2d-one\",\"tsne-2d-two\"))\n",
    "\n",
    "print(active_location_pixel_df)"
   ]
  },
  {
   "cell_type": "code",
   "execution_count": 172,
   "metadata": {},
   "outputs": [
    {
     "data": {
      "image/png": "[encoded data removed]",
      "text/plain": [
       "<Figure size 432x432 with 1 Axes>"
      ]
     },
     "metadata": {
      "needs_background": "light"
     },
     "output_type": "display_data"
    }
   ],
   "source": [
    "sn.FacetGrid(active_location_pixel_df, height=6).map(plt.scatter, \"tsne-2d-one\", \"tsne-2d-two\")\n",
    "plt.show()"
   ]
  },
  {
   "cell_type": "code",
   "execution_count": null,
   "metadata": {},
   "outputs": [],
   "source": []
  },
  {
   "cell_type": "code",
   "execution_count": null,
   "metadata": {},
   "outputs": [],
   "source": []
  }
 ],
 "metadata": {
  "kernelspec": {
   "display_name": "Python 3",
   "language": "python",
   "name": "python3"
  },
  "language_info": {
   "codemirror_mode": {
    "name": "ipython",
    "version": 3
   },
   "file_extension": ".py",
   "mimetype": "text/x-python",
   "name": "python",
   "nbconvert_exporter": "python",
   "pygments_lexer": "ipython3",
   "version": "3.8.3"
  }
 },
 "nbformat": 4,
 "nbformat_minor": 4
}
